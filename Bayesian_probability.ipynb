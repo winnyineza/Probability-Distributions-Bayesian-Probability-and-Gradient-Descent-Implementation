{
  "nbformat": 4,
  "nbformat_minor": 0,
  "metadata": {
    "colab": {
      "provenance": [],
      "include_colab_link": true
    },
    "kernelspec": {
      "name": "python3",
      "display_name": "Python 3"
    },
    "language_info": {
      "name": "python"
    }
  },
  "cells": [
    {
      "cell_type": "markdown",
      "metadata": {
        "id": "view-in-github",
        "colab_type": "text"
      },
      "source": [
        "<a href=\"https://colab.research.google.com/github/JohnOngeri/Probability-Distributions-Bayesian-Probability-and-Gradient-Descent-Implementation/blob/main/Bayesian_probability.ipynb\" target=\"_parent\"><img src=\"https://colab.research.google.com/assets/colab-badge.svg\" alt=\"Open In Colab\"/></a>"
      ]
    },
    {
      "cell_type": "markdown",
      "source": [
        "Bayes' Theorem to predict a student's probability of passing an exam based on study hours and past quiz performance.\n",
        "Breakdown of the Bayesian Update Process:\n",
        "Prior Probability (P(Pass)) → Initial assumption about the likelihood of passing.\n",
        "Likelihood (P(Data | Pass)) → Probability of study habits given that the student passes.\n",
        "Marginal Probability (P(Data)) → The overall probability of the observed data.\n",
        "Posterior Probability (P(Pass | Data)) → Updated probability after considering new data."
      ],
      "metadata": {
        "id": "4g9s3Z98vgYC"
      }
    },
    {
      "cell_type": "code",
      "source": [
        "pip install numpy\n"
      ],
      "metadata": {
        "colab": {
          "base_uri": "https://localhost:8080/"
        },
        "id": "WnvP9hCc0HMt",
        "outputId": "64e708af-193e-4254-ed55-629a44c981f6"
      },
      "execution_count": 18,
      "outputs": [
        {
          "output_type": "stream",
          "name": "stdout",
          "text": [
            "Requirement already satisfied: numpy in /usr/local/lib/python3.11/dist-packages (1.26.4)\n"
          ]
        }
      ]
    },
    {
      "cell_type": "code",
      "source": [
        "import numpy as np\n",
        "\n"
      ],
      "metadata": {
        "id": "mQDsfge4v7gH"
      },
      "execution_count": 19,
      "outputs": []
    },
    {
      "cell_type": "code",
      "source": [
        "# Prior probability of passing\n",
        "prior_pass = 0.7  # Assume 70% of students typically pass\n",
        "\n",
        "# Define likelihood function\n",
        "def likelihood(study_hours, quiz_score):\n",
        "    \"\"\"Returns P(Data | Pass) and P(Data | Fail) based on study hours and quiz scores.\"\"\"\n",
        "    # Assume Gaussian distribution for study hours and quiz scores\n",
        "    mean_pass_study = 6\n",
        "    std_pass_study = 2\n",
        "    mean_fail_study = 3\n",
        "    std_fail_study = 1.5\n",
        "\n",
        "    mean_pass_quiz = 80\n",
        "    std_pass_quiz = 10\n",
        "    mean_fail_quiz = 50\n",
        "    std_fail_quiz = 15\n",
        "\n",
        "    # Compute Gaussian probabilities\n",
        "    p_data_given_pass_study = (1 / (std_pass_study * np.sqrt(2 * np.pi))) * \\\n",
        "                              np.exp(-((study_hours - mean_pass_study)**2) / (2 * std_pass_study**2))\n",
        "\n",
        "    p_data_given_fail_study = (1 / (std_fail_study * np.sqrt(2 * np.pi))) * \\\n",
        "                              np.exp(-((study_hours - mean_fail_study)**2) / (2 * std_fail_study**2))\n",
        "\n",
        "    p_data_given_pass_quiz = (1 / (std_pass_quiz * np.sqrt(2 * np.pi))) * \\\n",
        "                             np.exp(-((quiz_score - mean_pass_quiz)**2) / (2 * std_pass_quiz**2))\n",
        "\n",
        "    p_data_given_fail_quiz = (1 / (std_fail_quiz * np.sqrt(2 * np.pi))) * \\\n",
        "                             np.exp(-((quiz_score - mean_fail_quiz)**2) / (2 * std_fail_quiz**2))\n",
        "\n",
        "    # Multiply study and quiz probabilities to get joint probability\n",
        "    p_data_given_pass = p_data_given_pass_study * p_data_given_pass_quiz\n",
        "    p_data_given_fail = p_data_given_fail_study * p_data_given_fail_quiz\n",
        "\n",
        "    return p_data_given_pass, p_data_given_fail  # Ensure values are returned\n",
        "\n",
        "# Bayesian update function\n",
        "def bayesian_update(study_hours, quiz_score):\n",
        "    # Call the likelihood function\n",
        "    p_data_given_pass, p_data_given_fail = likelihood(study_hours, quiz_score)\n",
        "\n",
        "    # Compute marginal probability\n",
        "    p_fail = 1 - prior_pass\n",
        "    p_data = (p_data_given_pass * prior_pass) + (p_data_given_fail * p_fail)\n",
        "\n",
        "    # Compute posterior probability\n",
        "    posterior_pass = (p_data_given_pass * prior_pass) / p_data\n",
        "\n",
        "    return posterior_pass\n",
        "\n",
        "# Test with example values\n",
        "study_hours = 5\n",
        "quiz_score = 75\n",
        "posterior_probability = bayesian_update(study_hours, quiz_score)\n",
        "\n",
        "print(f\"Updated probability of passing the exam: {posterior_probability:.2f}\")"
      ],
      "metadata": {
        "id": "DjZYux9Mwbnm",
        "colab": {
          "base_uri": "https://localhost:8080/"
        },
        "outputId": "b6d510be-8779-4329-eb0f-b89b49b38c2b"
      },
      "execution_count": 20,
      "outputs": [
        {
          "output_type": "stream",
          "name": "stdout",
          "text": [
            "Updated probability of passing the exam: 0.95\n"
          ]
        }
      ]
    },
    {
      "cell_type": "markdown",
      "source": [
        "How This Works:\n",
        "We start with an assumption that 70% of students pass.\n",
        "We calculate the likelihood of a student passing based on their study hours and quiz scores.\n",
        "We apply Bayes’ Theorem to update the probability of passing given the new data.\n",
        "Insights and Practical Use Cases:\n",
        "✅ Adaptive Learning: Schools can use Bayesian models to identify students at risk and recommend study plans.\n",
        "✅ Personalized Study Plans: Students can adjust their strategies based on real-time probability updates.\n",
        "✅ Education Analytics: Universities can track student progress and optimize their academic programs."
      ],
      "metadata": {
        "id": "9DCc0qh8zIUT"
      }
    }
  ]
}